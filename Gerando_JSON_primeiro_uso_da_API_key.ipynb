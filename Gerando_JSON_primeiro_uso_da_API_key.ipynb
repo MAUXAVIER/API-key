{
  "nbformat": 4,
  "nbformat_minor": 0,
  "metadata": {
    "colab": {
      "provenance": [],
      "authorship_tag": "ABX9TyMfiF9vvwWupomKHZofS0N4",
      "include_colab_link": true
    },
    "kernelspec": {
      "name": "python3",
      "display_name": "Python 3"
    },
    "language_info": {
      "name": "python"
    }
  },
  "cells": [
    {
      "cell_type": "markdown",
      "metadata": {
        "id": "view-in-github",
        "colab_type": "text"
      },
      "source": [
        "<a href=\"https://colab.research.google.com/github/MAUXAVIER/API-key/blob/main/Gerando_JSON_primeiro_uso_da_API_key.ipynb\" target=\"_parent\"><img src=\"https://colab.research.google.com/assets/colab-badge.svg\" alt=\"Open In Colab\"/></a>"
      ]
    },
    {
      "cell_type": "code",
      "execution_count": 1,
      "metadata": {
        "colab": {
          "base_uri": "https://localhost:8080/",
          "height": 329
        },
        "id": "UjJWaE7ONuic",
        "outputId": "0bc7636e-a280-4b33-faca-9343be83930f"
      },
      "outputs": [
        {
          "output_type": "stream",
          "name": "stdout",
          "text": [
            "Gerador de lista em JSON\n",
            "Quantas colunas?técnicas de engenharia prompt no Gemini 1.5\n",
            "Quantas linhas?comparando técnicas\n",
            "Qual o tema?Gemini 1.5\n",
            "Deseja detalhar o tema?prompt design\n",
            "Gerando...\n",
            "----------------------------------------------------\n",
            "| **Técnica de Engenharia de Prompt no Gemini 1.5** | **Detalhamento** |\n",
            "|---|---|\n",
            "| **Entrada Natural** | Instruções escritas ou faladas em linguagem natural, geralmente sem formatação especial. |\n",
            "| **Modelo Base** | Uso de um modelo de linguagem pré-treinado existente para gerar respostas. |\n",
            "| **Prompt Engineering** | Projetação e otimização de prompts para melhorar o desempenho do modelo. |\n",
            "| **Prompt Templates** | Reutilização de estruturas de prompts comuns para agilizar o processo de solicitação. |\n",
            "| **Prompt Tuning** | Ajuste fino das palavras e frases específicas em um prompt para obter resultados aprimorados. |\n",
            "| **Instruções de Ajuste** | Fornecimento de instruções explícitas ao modelo sobre como gerar respostas. |\n",
            "| **Aprendizagem por Reforço** | Uso de feedback para treinar o modelo a gerar respostas mais úteis ou precisas. |\n",
            "| **Aprendizado Ativo** | Iteração com os usuários para obter feedback e melhorar o desempenho do modelo. |\n",
            "| **Codificação de Prompt** | Uso de métodos formais para representar e estruturar prompts. |\n"
          ]
        }
      ],
      "source": [
        "!pip install -q -U google-generativeai\n",
        "import google.generativeai as genai\n",
        "from google.colab import userdata\n",
        "api_key = userdata.get('SECRET_KEY')\n",
        "genai.configure(api_key=api_key)\n",
        "\n",
        "model = genai.GenerativeModel('gemini-pro')\n",
        "\n",
        "print('Gerador de lista em JSON')\n",
        "num_col = input('Quantas colunas?') # testar limite 5 colonas\n",
        "num_lin = input('Quantas linhas?') # testar limite 10 linhas\n",
        "tema = input('Qual o tema?')\n",
        "detal = input('Deseja detalhar o tema?')\n",
        "\n",
        "print('Gerando...')\n",
        "print('----------------------------------------------------')\n",
        "\n",
        "response = model.generate_content(f\"Assunto: {tema}. Detalhes: {detal}. Formate uma tabela. Número de Linhas: {num_lin} .Número de colunas: {num_col}. Pense na melhor forma de organizar os dados e crie as linhas e colunas da tabela. Apresente a tabela numa formatação humanizada.\")\n",
        "print(response.text)\n"
      ]
    }
  ]
}